{
  "nbformat": 4,
  "nbformat_minor": 0,
  "metadata": {
    "kernelspec": {
      "display_name": "Python 3",
      "language": "python",
      "name": "python3"
    },
    "language_info": {
      "codemirror_mode": {
        "name": "ipython",
        "version": 3
      },
      "file_extension": ".py",
      "mimetype": "text/x-python",
      "name": "python",
      "nbconvert_exporter": "python",
      "pygments_lexer": "ipython3",
      "version": "3.8.3"
    },
    "colab": {
      "name": "lab1-A-sparse.ipynb",
      "provenance": [],
      "collapsed_sections": [],
      "include_colab_link": true
    }
  },
  "cells": [
    {
      "cell_type": "markdown",
      "metadata": {
        "id": "view-in-github",
        "colab_type": "text"
      },
      "source": [
        "<a href=\"https://colab.research.google.com/github/Mael-zys/SD212/blob/main/lab1_A_sparse.ipynb\" target=\"_parent\"><img src=\"https://colab.research.google.com/assets/colab-badge.svg\" alt=\"Open In Colab\"/></a>"
      ]
    },
    {
      "cell_type": "markdown",
      "metadata": {
        "id": "83035Q0ZvvWD"
      },
      "source": [
        "# SD212: Graph mining\n",
        "\n",
        "# Lab 1: Sparse matrices"
      ]
    },
    {
      "cell_type": "markdown",
      "metadata": {
        "id": "8GHfcJHrvvWE"
      },
      "source": [
        "The objective of this lab is to understand the structure and main properties of [sparse matrices](https://en.wikipedia.org/wiki/Sparse_matrix).\n",
        "\n",
        "You will learn to code your own sparse matrices to understand their underlying structure. <br>Note that in the other labs, we will only use sparse matrices of [SciPy](https://www.scipy.org/scipylib/index.html). "
      ]
    },
    {
      "cell_type": "markdown",
      "metadata": {
        "id": "RWizh_ItvvWF"
      },
      "source": [
        "## Import"
      ]
    },
    {
      "cell_type": "code",
      "metadata": {
        "id": "koQ0u4xxvvWF"
      },
      "source": [
        "import numpy as np"
      ],
      "execution_count": null,
      "outputs": []
    },
    {
      "cell_type": "code",
      "metadata": {
        "id": "BdQ-UWtqvvWF"
      },
      "source": [
        "from scipy import sparse"
      ],
      "execution_count": null,
      "outputs": []
    },
    {
      "cell_type": "markdown",
      "metadata": {
        "id": "d111yjU2vvWG"
      },
      "source": [
        "## Coordinate format"
      ]
    },
    {
      "cell_type": "code",
      "metadata": {
        "id": "kZii2puovvWG"
      },
      "source": [
        "# random matrix (dense format)\n",
        "A_dense = np.random.randint(2, size = (5,10))"
      ],
      "execution_count": null,
      "outputs": []
    },
    {
      "cell_type": "code",
      "metadata": {
        "colab": {
          "base_uri": "https://localhost:8080/"
        },
        "id": "MOwCgiUfvvWG",
        "outputId": "9372a9dc-20f4-498c-ec3d-b8a6e8be9893"
      },
      "source": [
        "A_dense"
      ],
      "execution_count": null,
      "outputs": [
        {
          "output_type": "execute_result",
          "data": {
            "text/plain": [
              "array([[0, 1, 1, 1, 1, 1, 1, 1, 1, 1],\n",
              "       [0, 0, 0, 0, 0, 1, 0, 0, 1, 0],\n",
              "       [1, 1, 1, 1, 1, 0, 1, 0, 0, 0],\n",
              "       [0, 1, 1, 0, 0, 0, 1, 0, 1, 1],\n",
              "       [0, 0, 1, 1, 1, 0, 0, 1, 0, 0]])"
            ]
          },
          "metadata": {
            "tags": []
          },
          "execution_count": 4
        }
      ]
    },
    {
      "cell_type": "code",
      "metadata": {
        "id": "FYaQ_f0NvvWG"
      },
      "source": [
        "A_coo = sparse.coo_matrix(A_dense)"
      ],
      "execution_count": null,
      "outputs": []
    },
    {
      "cell_type": "code",
      "metadata": {
        "colab": {
          "base_uri": "https://localhost:8080/"
        },
        "id": "xR4Y9m7-vvWH",
        "outputId": "02df1636-0028-49f6-f182-24456b8c19f4"
      },
      "source": [
        "A_coo"
      ],
      "execution_count": null,
      "outputs": [
        {
          "output_type": "execute_result",
          "data": {
            "text/plain": [
              "<5x10 sparse matrix of type '<class 'numpy.int64'>'\n",
              "\twith 26 stored elements in COOrdinate format>"
            ]
          },
          "metadata": {
            "tags": []
          },
          "execution_count": 6
        }
      ]
    },
    {
      "cell_type": "code",
      "metadata": {
        "colab": {
          "base_uri": "https://localhost:8080/"
        },
        "id": "kLPUfdgLvvWH",
        "outputId": "d9a28e7c-aa9a-4a9f-b201-0e451ed95fb9"
      },
      "source": [
        "A_coo.shape"
      ],
      "execution_count": null,
      "outputs": [
        {
          "output_type": "execute_result",
          "data": {
            "text/plain": [
              "(5, 10)"
            ]
          },
          "metadata": {
            "tags": []
          },
          "execution_count": 7
        }
      ]
    },
    {
      "cell_type": "code",
      "metadata": {
        "colab": {
          "base_uri": "https://localhost:8080/"
        },
        "id": "AcqxOnYyvvWH",
        "outputId": "381d8779-0f6d-43d8-ca18-29a54aae230a"
      },
      "source": [
        "A_coo.nnz"
      ],
      "execution_count": null,
      "outputs": [
        {
          "output_type": "execute_result",
          "data": {
            "text/plain": [
              "26"
            ]
          },
          "metadata": {
            "tags": []
          },
          "execution_count": 8
        }
      ]
    },
    {
      "cell_type": "code",
      "metadata": {
        "colab": {
          "base_uri": "https://localhost:8080/"
        },
        "id": "YftZ9HAnvvWH",
        "outputId": "0fd70c1a-7e0d-490c-e6cc-21bf245fdaef"
      },
      "source": [
        "print(A_coo.row)\n",
        "print(A_coo.col)\n",
        "print(A_coo.data)"
      ],
      "execution_count": null,
      "outputs": [
        {
          "output_type": "stream",
          "text": [
            "[0 0 0 0 0 0 0 0 0 1 1 2 2 2 2 2 2 3 3 3 3 3 4 4 4 4]\n",
            "[1 2 3 4 5 6 7 8 9 5 8 0 1 2 3 4 6 1 2 6 8 9 2 3 4 7]\n",
            "[1 1 1 1 1 1 1 1 1 1 1 1 1 1 1 1 1 1 1 1 1 1 1 1 1 1]\n"
          ],
          "name": "stdout"
        }
      ]
    },
    {
      "cell_type": "code",
      "metadata": {
        "id": "FgNSiG3PvvWI"
      },
      "source": [
        "# there might be zeros in data!\n",
        "row = A_coo.row\n",
        "col = A_coo.col\n",
        "data = np.random.randint(5, size=len(A_coo.data))\n",
        "shape = A_coo.shape"
      ],
      "execution_count": null,
      "outputs": []
    },
    {
      "cell_type": "code",
      "metadata": {
        "colab": {
          "base_uri": "https://localhost:8080/"
        },
        "id": "LZM9lPjNwmq7",
        "outputId": "c936ab1e-a50b-4343-d19b-e363e06d8ef5"
      },
      "source": [
        "shape"
      ],
      "execution_count": null,
      "outputs": [
        {
          "output_type": "execute_result",
          "data": {
            "text/plain": [
              "(5, 10)"
            ]
          },
          "metadata": {
            "tags": []
          },
          "execution_count": 12
        }
      ]
    },
    {
      "cell_type": "code",
      "metadata": {
        "colab": {
          "base_uri": "https://localhost:8080/"
        },
        "id": "lJ7KInQhvvWI",
        "outputId": "ffe09c10-7ce9-4395-dcf0-7ead4bf9867e"
      },
      "source": [
        "data"
      ],
      "execution_count": null,
      "outputs": [
        {
          "output_type": "execute_result",
          "data": {
            "text/plain": [
              "array([2, 1, 2, 2, 0, 4, 3, 4, 2, 1, 2, 3, 4, 3, 3, 1, 0, 2, 2, 0, 3, 1,\n",
              "       2, 4, 4, 4])"
            ]
          },
          "metadata": {
            "tags": []
          },
          "execution_count": 13
        }
      ]
    },
    {
      "cell_type": "code",
      "metadata": {
        "id": "Q_gmkHN39BUT"
      },
      "source": [
        "shape = (3, 5)\n",
        "\n",
        "indices = [1, 4, 0, 1, 2]\n",
        "\n",
        "indptr = [0, 2, 2, 5]\n",
        "\n",
        "data = [1, 3, 1, 2, 1]"
      ],
      "execution_count": null,
      "outputs": []
    },
    {
      "cell_type": "code",
      "metadata": {
        "id": "AnWkUTgQ9FYQ"
      },
      "source": [
        ""
      ],
      "execution_count": null,
      "outputs": []
    },
    {
      "cell_type": "code",
      "metadata": {
        "id": "G1wo7WhlvvWI",
        "colab": {
          "base_uri": "https://localhost:8080/",
          "height": 166
        },
        "outputId": "3f86db19-e600-495c-e401-48ea0bb1fc8c"
      },
      "source": [
        "B_coo = sparse.coo_matrix((data, (row, col)), shape)"
      ],
      "execution_count": null,
      "outputs": [
        {
          "output_type": "error",
          "ename": "NameError",
          "evalue": "ignored",
          "traceback": [
            "\u001b[0;31m---------------------------------------------------------------------------\u001b[0m",
            "\u001b[0;31mNameError\u001b[0m                                 Traceback (most recent call last)",
            "\u001b[0;32m<ipython-input-4-fb2640e3cbbd>\u001b[0m in \u001b[0;36m<module>\u001b[0;34m()\u001b[0m\n\u001b[0;32m----> 1\u001b[0;31m \u001b[0mB_coo\u001b[0m \u001b[0;34m=\u001b[0m \u001b[0msparse\u001b[0m\u001b[0;34m.\u001b[0m\u001b[0mcoo_matrix\u001b[0m\u001b[0;34m(\u001b[0m\u001b[0;34m(\u001b[0m\u001b[0mdata\u001b[0m\u001b[0;34m,\u001b[0m \u001b[0;34m(\u001b[0m\u001b[0mrow\u001b[0m\u001b[0;34m,\u001b[0m \u001b[0mcol\u001b[0m\u001b[0;34m)\u001b[0m\u001b[0;34m)\u001b[0m\u001b[0;34m,\u001b[0m \u001b[0mshape\u001b[0m\u001b[0;34m)\u001b[0m\u001b[0;34m\u001b[0m\u001b[0;34m\u001b[0m\u001b[0m\n\u001b[0m",
            "\u001b[0;31mNameError\u001b[0m: name 'row' is not defined"
          ]
        }
      ]
    },
    {
      "cell_type": "code",
      "metadata": {
        "colab": {
          "base_uri": "https://localhost:8080/"
        },
        "id": "OQJ69Y0YvvWI",
        "outputId": "892fb422-944f-4c9a-b8c4-19db6476a5b3"
      },
      "source": [
        "B_coo"
      ],
      "execution_count": null,
      "outputs": [
        {
          "output_type": "execute_result",
          "data": {
            "text/plain": [
              "<5x10 sparse matrix of type '<class 'numpy.int64'>'\n",
              "\twith 26 stored elements in COOrdinate format>"
            ]
          },
          "metadata": {
            "tags": []
          },
          "execution_count": 15
        }
      ]
    },
    {
      "cell_type": "code",
      "metadata": {
        "colab": {
          "base_uri": "https://localhost:8080/"
        },
        "id": "iweHrfHivvWI",
        "outputId": "296f9909-e295-4136-bba7-1ff0fec6c65e"
      },
      "source": [
        "B_coo.toarray()"
      ],
      "execution_count": null,
      "outputs": [
        {
          "output_type": "execute_result",
          "data": {
            "text/plain": [
              "array([[0, 2, 1, 2, 2, 0, 4, 3, 4, 2],\n",
              "       [0, 0, 0, 0, 0, 1, 0, 0, 2, 0],\n",
              "       [3, 4, 3, 3, 1, 0, 0, 0, 0, 0],\n",
              "       [0, 2, 2, 0, 0, 0, 0, 0, 3, 1],\n",
              "       [0, 0, 2, 4, 4, 0, 0, 4, 0, 0]])"
            ]
          },
          "metadata": {
            "tags": []
          },
          "execution_count": 16
        }
      ]
    },
    {
      "cell_type": "code",
      "metadata": {
        "colab": {
          "base_uri": "https://localhost:8080/"
        },
        "id": "kAsrljssvvWJ",
        "outputId": "aec0bf11-6d02-476d-f6fb-01c0d973a5cd"
      },
      "source": [
        "B_coo.nnz"
      ],
      "execution_count": null,
      "outputs": [
        {
          "output_type": "execute_result",
          "data": {
            "text/plain": [
              "26"
            ]
          },
          "metadata": {
            "tags": []
          },
          "execution_count": 17
        }
      ]
    },
    {
      "cell_type": "code",
      "metadata": {
        "colab": {
          "base_uri": "https://localhost:8080/"
        },
        "id": "6eXsfIHJvvWJ",
        "outputId": "903799a6-c71a-4004-db75-777f9f448df5"
      },
      "source": [
        "np.sum(B_coo.data > 0)"
      ],
      "execution_count": null,
      "outputs": [
        {
          "output_type": "execute_result",
          "data": {
            "text/plain": [
              "23"
            ]
          },
          "metadata": {
            "tags": []
          },
          "execution_count": 18
        }
      ]
    },
    {
      "cell_type": "code",
      "metadata": {
        "id": "AQN2wWQivvWJ"
      },
      "source": [
        "B_coo.eliminate_zeros()"
      ],
      "execution_count": null,
      "outputs": []
    },
    {
      "cell_type": "code",
      "metadata": {
        "colab": {
          "base_uri": "https://localhost:8080/"
        },
        "id": "mb9IYhV6vvWJ",
        "outputId": "eb80149c-41d5-4b90-e5ea-64c3797dd5ac"
      },
      "source": [
        "B_coo"
      ],
      "execution_count": null,
      "outputs": [
        {
          "output_type": "execute_result",
          "data": {
            "text/plain": [
              "<5x10 sparse matrix of type '<class 'numpy.int64'>'\n",
              "\twith 23 stored elements in COOrdinate format>"
            ]
          },
          "metadata": {
            "tags": []
          },
          "execution_count": 20
        }
      ]
    },
    {
      "cell_type": "code",
      "metadata": {
        "colab": {
          "base_uri": "https://localhost:8080/"
        },
        "id": "vML_QCqvwH_c",
        "outputId": "5e16cfd7-140c-492a-86f6-6bb1e3f11558"
      },
      "source": [
        "B_coo.nnz"
      ],
      "execution_count": null,
      "outputs": [
        {
          "output_type": "execute_result",
          "data": {
            "text/plain": [
              "20"
            ]
          },
          "metadata": {
            "tags": []
          },
          "execution_count": 19
        }
      ]
    },
    {
      "cell_type": "markdown",
      "metadata": {
        "id": "ud4nup5tvvWJ"
      },
      "source": [
        "## To do"
      ]
    },
    {
      "cell_type": "markdown",
      "metadata": {
        "id": "59UFkJ_PvvWK"
      },
      "source": [
        "Complete the function below that converts a dense matrix into a sparse matrix in COO format. \n",
        "\n",
        "Needless to say...\n",
        "* don't use `scipy`\n",
        "* don't use any loop\n",
        "\n",
        "**Hint:** Use `np.nonzero`"
      ]
    },
    {
      "cell_type": "code",
      "metadata": {
        "colab": {
          "base_uri": "https://localhost:8080/"
        },
        "id": "nM3AztlNvvWK",
        "outputId": "8eb63db3-d612-4352-f286-867e390e7678"
      },
      "source": [
        "A_dense"
      ],
      "execution_count": null,
      "outputs": [
        {
          "output_type": "execute_result",
          "data": {
            "text/plain": [
              "array([[0, 1, 1, 1, 1, 1, 1, 1, 1, 1],\n",
              "       [0, 0, 0, 0, 0, 1, 0, 0, 1, 0],\n",
              "       [1, 1, 1, 1, 1, 0, 1, 0, 0, 0],\n",
              "       [0, 1, 1, 0, 0, 0, 1, 0, 1, 1],\n",
              "       [0, 0, 1, 1, 1, 0, 0, 1, 0, 0]])"
            ]
          },
          "metadata": {
            "tags": []
          },
          "execution_count": 21
        }
      ]
    },
    {
      "cell_type": "code",
      "metadata": {
        "colab": {
          "base_uri": "https://localhost:8080/"
        },
        "id": "REPYUyKRvvWK",
        "outputId": "1c03d3c8-867c-4a6c-834e-14aefa15b77a"
      },
      "source": [
        "np.nonzero(A_dense)"
      ],
      "execution_count": null,
      "outputs": [
        {
          "output_type": "execute_result",
          "data": {
            "text/plain": [
              "(array([0, 0, 0, 0, 0, 0, 0, 0, 0, 1, 1, 2, 2, 2, 2, 2, 2, 3, 3, 3, 3, 3,\n",
              "        4, 4, 4, 4]),\n",
              " array([1, 2, 3, 4, 5, 6, 7, 8, 9, 5, 8, 0, 1, 2, 3, 4, 6, 1, 2, 6, 8, 9,\n",
              "        2, 3, 4, 7]))"
            ]
          },
          "metadata": {
            "tags": []
          },
          "execution_count": 22
        }
      ]
    },
    {
      "cell_type": "code",
      "metadata": {
        "id": "vKQq9Kc6vvWK"
      },
      "source": [
        "class SparseCOO():\n",
        "    def __init__(self, data: np.ndarray, row: np.ndarray, col: np.ndarray, shape: tuple):\n",
        "        self.data = data\n",
        "        self.row = row\n",
        "        self.col = col\n",
        "        self.shape = shape"
      ],
      "execution_count": null,
      "outputs": []
    },
    {
      "cell_type": "code",
      "metadata": {
        "id": "ZjgQNe9NvvWK"
      },
      "source": [
        "def dense_to_coo(A):\n",
        "    '''Convert dense matrix to sparse in COO format.\n",
        "    \n",
        "    Parameters\n",
        "    ----------\n",
        "    A : np.ndarray\n",
        "        Dense matrix\n",
        "        \n",
        "    Returns\n",
        "    -------\n",
        "    A_coo : SparseCOO\n",
        "        Sparse matrix in COO format.\n",
        "    '''\n",
        "    # to be modified\n",
        "    data = A[np.nonzero(A)]\n",
        "    row = np.nonzero(A)[0]\n",
        "    col = np.nonzero(A)[1] \n",
        "    shape = A.shape\n",
        "    return SparseCOO(data, row, col, shape)"
      ],
      "execution_count": null,
      "outputs": []
    },
    {
      "cell_type": "code",
      "metadata": {
        "id": "16-U4Mg6vvWL"
      },
      "source": [
        "def test_equality(A, B, attributes):\n",
        "    return [np.all(getattr(A, a) == getattr(B, a)) for a in attributes]"
      ],
      "execution_count": null,
      "outputs": []
    },
    {
      "cell_type": "code",
      "metadata": {
        "id": "UkmkQ91kvvWL"
      },
      "source": [
        "# test\n",
        "A_dense = np.random.randint(2, size = (5,10))\n",
        "A_coo = sparse.coo_matrix(A_dense)\n",
        "A_coo_ = dense_to_coo(A_dense)"
      ],
      "execution_count": null,
      "outputs": []
    },
    {
      "cell_type": "code",
      "metadata": {
        "colab": {
          "base_uri": "https://localhost:8080/"
        },
        "id": "d02K3BQHvvWL",
        "outputId": "852465c0-54c3-4309-9eb8-d9fe96dd3c31"
      },
      "source": [
        "test_equality(A_coo, A_coo_, [\"data\", \"row\", \"col\"])"
      ],
      "execution_count": null,
      "outputs": [
        {
          "output_type": "execute_result",
          "data": {
            "text/plain": [
              "[True, True, True]"
            ]
          },
          "metadata": {
            "tags": []
          },
          "execution_count": 27
        }
      ]
    },
    {
      "cell_type": "markdown",
      "metadata": {
        "id": "I7gfT1FhvvWL"
      },
      "source": [
        "## CSR format"
      ]
    },
    {
      "cell_type": "markdown",
      "metadata": {
        "id": "VWb6HfUAvvWL"
      },
      "source": [
        "The CSR (Compressed Sparse Row) format is the most efficient for arithmetic operations (see below)."
      ]
    },
    {
      "cell_type": "code",
      "metadata": {
        "scrolled": true,
        "colab": {
          "base_uri": "https://localhost:8080/"
        },
        "id": "LSViIBMsvvWL",
        "outputId": "37f0fc05-9a7e-4c40-f838-bfe00021cb35"
      },
      "source": [
        "A_dense"
      ],
      "execution_count": null,
      "outputs": [
        {
          "output_type": "execute_result",
          "data": {
            "text/plain": [
              "array([[0, 0, 0, 1, 0, 1, 1, 1, 1, 1],\n",
              "       [1, 1, 0, 0, 0, 0, 0, 1, 0, 0],\n",
              "       [1, 1, 1, 1, 0, 0, 0, 1, 0, 1],\n",
              "       [0, 0, 1, 0, 0, 0, 0, 1, 0, 1],\n",
              "       [0, 1, 0, 0, 1, 0, 0, 1, 1, 1]])"
            ]
          },
          "metadata": {
            "tags": []
          },
          "execution_count": 28
        }
      ]
    },
    {
      "cell_type": "code",
      "metadata": {
        "id": "CoIPeAKXvvWL"
      },
      "source": [
        "A_csr = sparse.csr_matrix(A_dense)"
      ],
      "execution_count": null,
      "outputs": []
    },
    {
      "cell_type": "code",
      "metadata": {
        "colab": {
          "base_uri": "https://localhost:8080/"
        },
        "id": "cCL99OU2vvWM",
        "outputId": "0eac1aaa-cbec-460b-c607-db7a2757a404"
      },
      "source": [
        "A_csr"
      ],
      "execution_count": null,
      "outputs": [
        {
          "output_type": "execute_result",
          "data": {
            "text/plain": [
              "<5x10 sparse matrix of type '<class 'numpy.longlong'>'\n",
              "\twith 23 stored elements in Compressed Sparse Row format>"
            ]
          },
          "metadata": {
            "tags": []
          },
          "execution_count": 30
        }
      ]
    },
    {
      "cell_type": "code",
      "metadata": {
        "colab": {
          "base_uri": "https://localhost:8080/"
        },
        "id": "lpUNbqD9vvWM",
        "outputId": "a9253cd3-6fe0-4990-ef43-e87d1c085341"
      },
      "source": [
        "A_csr.shape"
      ],
      "execution_count": null,
      "outputs": [
        {
          "output_type": "execute_result",
          "data": {
            "text/plain": [
              "(5, 10)"
            ]
          },
          "metadata": {
            "tags": []
          },
          "execution_count": 31
        }
      ]
    },
    {
      "cell_type": "code",
      "metadata": {
        "colab": {
          "base_uri": "https://localhost:8080/"
        },
        "id": "aHxKjgqEvvWM",
        "outputId": "c9c6850a-5df6-47ae-b5d4-215bce5addce"
      },
      "source": [
        "A_csr.nnz"
      ],
      "execution_count": null,
      "outputs": [
        {
          "output_type": "execute_result",
          "data": {
            "text/plain": [
              "23"
            ]
          },
          "metadata": {
            "tags": []
          },
          "execution_count": 32
        }
      ]
    },
    {
      "cell_type": "code",
      "metadata": {
        "colab": {
          "base_uri": "https://localhost:8080/"
        },
        "id": "mktEwN6UvvWM",
        "outputId": "f5592e04-0642-43af-909d-519bf28c793d"
      },
      "source": [
        "print(A_csr.indices)\n",
        "print(A_csr.indptr)\n",
        "print(A_csr.data)"
      ],
      "execution_count": null,
      "outputs": [
        {
          "output_type": "stream",
          "text": [
            "[3 5 6 7 8 9 0 1 7 0 1 2 3 7 9 2 7 9 1 4 7 8 9]\n",
            "[ 0  6  9 15 18 23]\n",
            "[1 1 1 1 1 1 1 1 1 1 1 1 1 1 1 1 1 1 1 1 1 1 1]\n"
          ],
          "name": "stdout"
        }
      ]
    },
    {
      "cell_type": "code",
      "metadata": {
        "colab": {
          "base_uri": "https://localhost:8080/"
        },
        "id": "M0VHNoEfvvWM",
        "outputId": "dd0f6c66-1798-4000-89e1-daee66e055e6"
      },
      "source": [
        "A_csr[3, 4]"
      ],
      "execution_count": null,
      "outputs": [
        {
          "output_type": "execute_result",
          "data": {
            "text/plain": [
              "0"
            ]
          },
          "metadata": {
            "tags": []
          },
          "execution_count": 34
        }
      ]
    },
    {
      "cell_type": "code",
      "metadata": {
        "colab": {
          "base_uri": "https://localhost:8080/"
        },
        "id": "JA9o25EuvvWM",
        "outputId": "9c68e36c-2e6c-46b2-a154-e0953ed093a4"
      },
      "source": [
        "A_csr[3]"
      ],
      "execution_count": null,
      "outputs": [
        {
          "output_type": "execute_result",
          "data": {
            "text/plain": [
              "<1x10 sparse matrix of type '<class 'numpy.int64'>'\n",
              "\twith 3 stored elements in Compressed Sparse Row format>"
            ]
          },
          "metadata": {
            "tags": []
          },
          "execution_count": 35
        }
      ]
    },
    {
      "cell_type": "code",
      "metadata": {
        "colab": {
          "base_uri": "https://localhost:8080/"
        },
        "id": "C6QqkJKpvvWM",
        "outputId": "9dba53c2-87cf-4cdb-8511-1e7e2fd0c187"
      },
      "source": [
        "A_csr[3].toarray()"
      ],
      "execution_count": null,
      "outputs": [
        {
          "output_type": "execute_result",
          "data": {
            "text/plain": [
              "array([[0, 0, 1, 0, 0, 0, 0, 1, 0, 1]])"
            ]
          },
          "metadata": {
            "tags": []
          },
          "execution_count": 36
        }
      ]
    },
    {
      "cell_type": "code",
      "metadata": {
        "id": "SL0UE10GvvWN"
      },
      "source": [
        "# data might have zeros!\n",
        "indices = A_csr.indices\n",
        "indptr = A_csr.indptr\n",
        "data = np.random.randint(5, size=len(A_csr.data))\n",
        "shape = A_csr.shape"
      ],
      "execution_count": null,
      "outputs": []
    },
    {
      "cell_type": "code",
      "metadata": {
        "id": "Ki2mWAuyvvWN"
      },
      "source": [
        "B_csr = sparse.csr_matrix((data, indices, indptr), shape)"
      ],
      "execution_count": null,
      "outputs": []
    },
    {
      "cell_type": "code",
      "metadata": {
        "colab": {
          "base_uri": "https://localhost:8080/"
        },
        "id": "VCq7ArWlvvWN",
        "outputId": "f7ca63b9-be74-4e30-cd18-6f647d036df6"
      },
      "source": [
        "B_csr"
      ],
      "execution_count": null,
      "outputs": [
        {
          "output_type": "execute_result",
          "data": {
            "text/plain": [
              "<3x5 sparse matrix of type '<class 'numpy.int64'>'\n",
              "\twith 5 stored elements in Compressed Sparse Row format>"
            ]
          },
          "metadata": {
            "tags": []
          },
          "execution_count": 7
        }
      ]
    },
    {
      "cell_type": "code",
      "metadata": {
        "colab": {
          "base_uri": "https://localhost:8080/"
        },
        "id": "8puc2It09Qm9",
        "outputId": "960ab8a9-e5b3-40a9-b3a4-0fe58d0eb13c"
      },
      "source": [
        "B_csr.nnz"
      ],
      "execution_count": null,
      "outputs": [
        {
          "output_type": "execute_result",
          "data": {
            "text/plain": [
              "5"
            ]
          },
          "metadata": {
            "tags": []
          },
          "execution_count": 8
        }
      ]
    },
    {
      "cell_type": "code",
      "metadata": {
        "colab": {
          "base_uri": "https://localhost:8080/"
        },
        "id": "IHOHL8_N9Tt2",
        "outputId": "93ad46c0-a933-4ea6-f921-72fc5b835253"
      },
      "source": [
        "B_csr.toarray()"
      ],
      "execution_count": null,
      "outputs": [
        {
          "output_type": "execute_result",
          "data": {
            "text/plain": [
              "array([[0, 1, 0, 0, 3],\n",
              "       [0, 0, 0, 0, 0],\n",
              "       [1, 2, 1, 0, 0]])"
            ]
          },
          "metadata": {
            "tags": []
          },
          "execution_count": 9
        }
      ]
    },
    {
      "cell_type": "code",
      "metadata": {
        "id": "lJ3JOLEEvvWN"
      },
      "source": [
        "B_csr.eliminate_zeros()"
      ],
      "execution_count": null,
      "outputs": []
    },
    {
      "cell_type": "code",
      "metadata": {
        "colab": {
          "base_uri": "https://localhost:8080/"
        },
        "id": "zPYvl-27vvWN",
        "outputId": "b9a9613c-b990-4503-b623-c4e3cabc0a53"
      },
      "source": [
        "B_csr"
      ],
      "execution_count": null,
      "outputs": [
        {
          "output_type": "execute_result",
          "data": {
            "text/plain": [
              "<5x10 sparse matrix of type '<class 'numpy.int64'>'\n",
              "\twith 17 stored elements in Compressed Sparse Row format>"
            ]
          },
          "metadata": {
            "tags": []
          },
          "execution_count": 41
        }
      ]
    },
    {
      "cell_type": "code",
      "metadata": {
        "id": "bpJSDdFLvvWN"
      },
      "source": [
        "# from COO format\n",
        "row = [0, 0, 1, 2, 2]\n",
        "col = [2, 3, 0, 1, 2]\n",
        "data = np.ones(5)\n",
        "A_csr = sparse.csr_matrix((data, (row, col)), shape = (3, 4))"
      ],
      "execution_count": null,
      "outputs": []
    },
    {
      "cell_type": "code",
      "metadata": {
        "colab": {
          "base_uri": "https://localhost:8080/"
        },
        "id": "3F9aDhNPvvWN",
        "outputId": "c64c57d8-4abb-41aa-bc6e-1671307d8f43"
      },
      "source": [
        "A_csr.toarray()"
      ],
      "execution_count": null,
      "outputs": [
        {
          "output_type": "execute_result",
          "data": {
            "text/plain": [
              "array([[0., 0., 1., 1.],\n",
              "       [1., 0., 0., 0.],\n",
              "       [0., 1., 1., 0.]])"
            ]
          },
          "metadata": {
            "tags": []
          },
          "execution_count": 43
        }
      ]
    },
    {
      "cell_type": "code",
      "metadata": {
        "id": "xhdzStievvWN"
      },
      "source": [
        "# equivalently\n",
        "A_coo = sparse.coo_matrix((data, (row, col)), shape = (3, 4))\n",
        "A_csr = sparse.csr_matrix(A_coo)"
      ],
      "execution_count": null,
      "outputs": []
    },
    {
      "cell_type": "code",
      "metadata": {
        "colab": {
          "base_uri": "https://localhost:8080/"
        },
        "id": "qqV9vJWpvvWO",
        "outputId": "650cba31-cad9-4b02-a08d-0bd8f2cb8fd6"
      },
      "source": [
        "A_csr.toarray()"
      ],
      "execution_count": null,
      "outputs": [
        {
          "output_type": "execute_result",
          "data": {
            "text/plain": [
              "array([[0., 0., 1., 1.],\n",
              "       [1., 0., 0., 0.],\n",
              "       [0., 1., 1., 0.]])"
            ]
          },
          "metadata": {
            "tags": []
          },
          "execution_count": 45
        }
      ]
    },
    {
      "cell_type": "markdown",
      "metadata": {
        "id": "br5zE8kwvvWO"
      },
      "source": [
        "## To do"
      ]
    },
    {
      "cell_type": "markdown",
      "metadata": {
        "id": "bi3q-7NavvWO"
      },
      "source": [
        "Complete the function below that converts a sparse matrix from COO format to CSR format.\n",
        "\n",
        "Again...\n",
        "* don't use `scipy`\n",
        "* don't use any loop\n",
        "\n",
        "**Hint:** Use ``np.unique`` and ``np.cumsum``."
      ]
    },
    {
      "cell_type": "code",
      "metadata": {
        "id": "zFT-_M1SvvWO"
      },
      "source": [
        "class SparseCSR():\n",
        "    def __init__(self, data: np.ndarray, indices: np.ndarray, indptr: np.ndarray, shape: tuple):\n",
        "        self.data = data\n",
        "        self.indices = indices\n",
        "        self.indptr = indptr\n",
        "        self.shape = shape"
      ],
      "execution_count": null,
      "outputs": []
    },
    {
      "cell_type": "code",
      "metadata": {
        "id": "rvNycwWuvvWO"
      },
      "source": [
        "def coo_to_csr(A_coo):\n",
        "    '''Convert a sparse matrix from COO to CSR format.\n",
        "    \n",
        "    Parameters\n",
        "    ----------\n",
        "    A_coo : SparseCSR\n",
        "        Sparse matrix in COO format.\n",
        "        \n",
        "    Returns\n",
        "    -------\n",
        "    A_csr : SparseCSR\n",
        "        Sparse matrix in CSR format.\n",
        "    '''\n",
        "    # to be modified\n",
        "    data = A_coo.data\n",
        "    indices = A_coo.col\n",
        "    shape = A_coo.shape\n",
        "    indptr = np.zeros(shape[0] + 1, dtype = int)\n",
        "    row_indices, counts = np.unique(A_coo.row, return_counts=True)\n",
        "    print(row_indices)\n",
        "    print(counts)\n",
        "    indptr[row_indices+1] = counts\n",
        "    indptr = np.cumsum(indptr)\n",
        "    return SparseCSR(data, indices, indptr, shape)"
      ],
      "execution_count": null,
      "outputs": []
    },
    {
      "cell_type": "code",
      "metadata": {
        "id": "Np-t82hSvvWO"
      },
      "source": [
        "def dense_to_csr(A):\n",
        "    '''Convert dense matrix to sparse in CSR format.\n",
        "    \n",
        "    Parameters\n",
        "    ----------\n",
        "    A : np.ndarray\n",
        "        Dense matrix\n",
        "        \n",
        "    Returns\n",
        "    -------\n",
        "    A_csr : SparseCSR\n",
        "        Sparse matrix in CSR format.\n",
        "    '''\n",
        "    return coo_to_csr(sparse.coo_matrix(A))"
      ],
      "execution_count": null,
      "outputs": []
    },
    {
      "cell_type": "code",
      "metadata": {
        "scrolled": true,
        "colab": {
          "base_uri": "https://localhost:8080/"
        },
        "id": "v6Ywco3ovvWP",
        "outputId": "ce7b2ab6-c630-4de6-c5c9-2f42565b5139"
      },
      "source": [
        "# test\n",
        "A_dense = np.random.randint(2, size = (5,10))\n",
        "A_csr = sparse.csr_matrix(A_dense)\n",
        "A_csr_ = dense_to_csr(A_dense)\n",
        "print(A_csr.indptr)\n",
        "print(A_csr_.indptr)"
      ],
      "execution_count": null,
      "outputs": [
        {
          "output_type": "stream",
          "text": [
            "[0 1 2 3 4]\n",
            "[2 5 5 6 6]\n",
            "[ 0  2  7 12 18 24]\n",
            "[ 0  2  7 12 18 24]\n"
          ],
          "name": "stdout"
        }
      ]
    },
    {
      "cell_type": "code",
      "metadata": {
        "colab": {
          "base_uri": "https://localhost:8080/"
        },
        "id": "LNVGJwtvvvWP",
        "outputId": "827dc760-54b4-4bb1-f892-96eb75816d2e"
      },
      "source": [
        "test_equality(A_csr, A_csr_, [\"data\", \"indices\", \"indptr\"])"
      ],
      "execution_count": null,
      "outputs": [
        {
          "output_type": "execute_result",
          "data": {
            "text/plain": [
              "[True, True, True]"
            ]
          },
          "metadata": {
            "tags": []
          },
          "execution_count": 50
        }
      ]
    },
    {
      "cell_type": "markdown",
      "metadata": {
        "id": "UYWcLrqYvvWP"
      },
      "source": [
        "## Diagonal format"
      ]
    },
    {
      "cell_type": "code",
      "metadata": {
        "id": "SS6L_q08vvWP"
      },
      "source": [
        "A_diag = sparse.diags(np.arange(5))"
      ],
      "execution_count": null,
      "outputs": []
    },
    {
      "cell_type": "code",
      "metadata": {
        "id": "m0YiZFTvvvWP"
      },
      "source": [
        "A_diag"
      ],
      "execution_count": null,
      "outputs": []
    },
    {
      "cell_type": "code",
      "metadata": {
        "id": "Pl58SGWJvvWP"
      },
      "source": [
        "A_diag.toarray()"
      ],
      "execution_count": null,
      "outputs": []
    },
    {
      "cell_type": "code",
      "metadata": {
        "scrolled": true,
        "id": "XQlQ1xgPvvWP"
      },
      "source": [
        "A_diag.diagonal()"
      ],
      "execution_count": null,
      "outputs": []
    },
    {
      "cell_type": "code",
      "metadata": {
        "id": "0gQaHN57vvWQ"
      },
      "source": [
        "A = sparse.csr_matrix(A_diag)"
      ],
      "execution_count": null,
      "outputs": []
    },
    {
      "cell_type": "code",
      "metadata": {
        "id": "qSB84aZRvvWQ"
      },
      "source": [
        "A"
      ],
      "execution_count": null,
      "outputs": []
    },
    {
      "cell_type": "markdown",
      "metadata": {
        "id": "hvKE9etSvvWQ"
      },
      "source": [
        "## To do"
      ]
    },
    {
      "cell_type": "markdown",
      "metadata": {
        "id": "5LnduTLSvvWQ"
      },
      "source": [
        "Complete the following function that returns a sparse CSR matrix with the pseudo-inverse vector on the diagonal.\n",
        "\n",
        "**Example:** pseudo inverse of (0, 1, 2) -> (0, 1, 1/2)\n",
        "\n",
        "**Hint:** Use the property of sparse matrices!"
      ]
    },
    {
      "cell_type": "code",
      "metadata": {
        "id": "4aP2y6TCvvWQ"
      },
      "source": [
        "def get_pseudo_inverse(vector):\n",
        "    '''Return a sparse matrix with pseudo-inverse on the diagonal.\n",
        "    \n",
        "    Parameters\n",
        "    ----------\n",
        "    vector : np.ndarray\n",
        "        Input vector. \n",
        "        \n",
        "    Returns\n",
        "    -------\n",
        "    A_csr : sparse.csr_matrix\n",
        "        Sparse matrix in scipy CSR format.\n",
        "    '''    \n",
        "    # to be modified\n",
        "    return None"
      ],
      "execution_count": null,
      "outputs": []
    },
    {
      "cell_type": "code",
      "metadata": {
        "id": "rJOQJUSivvWR"
      },
      "source": [
        "# test\n",
        "get_pseudo_inverse(np.arange(3))"
      ],
      "execution_count": null,
      "outputs": []
    },
    {
      "cell_type": "markdown",
      "metadata": {
        "id": "vF5R2-TnvvWR"
      },
      "source": [
        "## Operations"
      ]
    },
    {
      "cell_type": "markdown",
      "metadata": {
        "id": "GLgRV9G8vvWR"
      },
      "source": [
        "Usual arithmetic operations apply to sparse matrices. The only contraint is to have a sparse matrix on the **left-hand side** of the operator."
      ]
    },
    {
      "cell_type": "code",
      "metadata": {
        "id": "KBxfOCqzvvWR"
      },
      "source": [
        "A = sparse.csr_matrix(A_dense)"
      ],
      "execution_count": null,
      "outputs": []
    },
    {
      "cell_type": "code",
      "metadata": {
        "id": "SSBASwXjvvWR"
      },
      "source": [
        "n_row, n_col = A.shape"
      ],
      "execution_count": null,
      "outputs": []
    },
    {
      "cell_type": "code",
      "metadata": {
        "scrolled": true,
        "id": "wm4YdgeuvvWR"
      },
      "source": [
        "A.dot(np.ones(n_col, dtype=int))"
      ],
      "execution_count": null,
      "outputs": []
    },
    {
      "cell_type": "code",
      "metadata": {
        "id": "7yjkTIdKvvWR"
      },
      "source": [
        "A.T.dot(np.ones(n_row, dtype=int))"
      ],
      "execution_count": null,
      "outputs": []
    },
    {
      "cell_type": "code",
      "metadata": {
        "id": "AsJaTcCIvvWR"
      },
      "source": [
        "# observe the format of the transpose\n",
        "A.T"
      ],
      "execution_count": null,
      "outputs": []
    },
    {
      "cell_type": "code",
      "metadata": {
        "id": "QuN_cfepvvWS"
      },
      "source": [
        "A.T.dot(A)"
      ],
      "execution_count": null,
      "outputs": []
    },
    {
      "cell_type": "code",
      "metadata": {
        "id": "FNjeYABDvvWS"
      },
      "source": [
        "A.dot(A.T)"
      ],
      "execution_count": null,
      "outputs": []
    },
    {
      "cell_type": "code",
      "metadata": {
        "id": "QcjF62pbvvWS"
      },
      "source": [
        "A.data = np.random.choice((1,2,3,4), size = len(A.data))"
      ],
      "execution_count": null,
      "outputs": []
    },
    {
      "cell_type": "code",
      "metadata": {
        "id": "RcQv7HGivvWS"
      },
      "source": [
        "B = A > 1"
      ],
      "execution_count": null,
      "outputs": []
    },
    {
      "cell_type": "code",
      "metadata": {
        "id": "vCdhqqmavvWS"
      },
      "source": [
        "B"
      ],
      "execution_count": null,
      "outputs": []
    },
    {
      "cell_type": "code",
      "metadata": {
        "id": "02NjTDvkvvWS"
      },
      "source": [
        "# Explain the following warning...\n",
        "B = A < 1"
      ],
      "execution_count": null,
      "outputs": []
    },
    {
      "cell_type": "code",
      "metadata": {
        "id": "xBX5EG97vvWS"
      },
      "source": [
        "B"
      ],
      "execution_count": null,
      "outputs": []
    },
    {
      "cell_type": "code",
      "metadata": {
        "id": "DFTwUeeEvvWS"
      },
      "source": [
        "B_dense = np.random.randint(2, size = (5,10))\n",
        "B = sparse.csr_matrix(B_dense)"
      ],
      "execution_count": null,
      "outputs": []
    },
    {
      "cell_type": "code",
      "metadata": {
        "id": "uJtLfPGavvWT"
      },
      "source": [
        "2 * A + 5 * B"
      ],
      "execution_count": null,
      "outputs": []
    },
    {
      "cell_type": "markdown",
      "metadata": {
        "id": "pw57lhmVvvWT"
      },
      "source": [
        "## To do"
      ]
    },
    {
      "cell_type": "markdown",
      "metadata": {
        "id": "ZU8oGOBZvvWT"
      },
      "source": [
        "Complete the following function that normalizes a sparse CSR matrix with non-negative entries so that each row sums to 1 (or to 0 if the whole row is zero). \n",
        "\n",
        "**Hint:** Use the above function ``get_pseudo_inverse``."
      ]
    },
    {
      "cell_type": "code",
      "metadata": {
        "id": "AQp31IlovvWT"
      },
      "source": [
        "def normalize_rows(A):\n",
        "    '''Normalize the rows of a CSR matrix so that all sum to 1 (or 0).\n",
        "    \n",
        "    Parameters\n",
        "    ----------\n",
        "    A : sparse.csr_matrix\n",
        "        Input matrix (non-negative entries).\n",
        "    \n",
        "    Returns\n",
        "    -------\n",
        "    A_norm : sparse.csr_matrix\n",
        "        Normalized matrix. \n",
        "    \n",
        "    '''\n",
        "    # to be modified\n",
        "    return None"
      ],
      "execution_count": null,
      "outputs": []
    },
    {
      "cell_type": "markdown",
      "metadata": {
        "id": "9tbTWkJgvvWT"
      },
      "source": [
        "## To do"
      ]
    },
    {
      "cell_type": "markdown",
      "metadata": {
        "id": "6b9emsJDvvWT"
      },
      "source": [
        "Complete the following method that returns the dot product of a sparse CSR matrix with a vector.\n",
        "\n",
        "* No loop allowed!"
      ]
    },
    {
      "cell_type": "code",
      "metadata": {
        "id": "uBUkP_1IvvWT"
      },
      "source": [
        "class SparseCSR():\n",
        "    def __init__(self, data: np.ndarray, indices: np.ndarray, indptr: np.ndarray, shape: tuple):\n",
        "        self.data = data\n",
        "        self.indices = indices\n",
        "        self.indptr = indptr\n",
        "        self.shape = shape\n",
        "        \n",
        "    def dot(self, x: np.ndarray) -> np.ndarray:\n",
        "        '''Sparse-vector dot product.'''\n",
        "        # to be modified\n",
        "        return None"
      ],
      "execution_count": null,
      "outputs": []
    },
    {
      "cell_type": "markdown",
      "metadata": {
        "id": "iz3_JE96vvWU"
      },
      "source": [
        "## Slicing"
      ]
    },
    {
      "cell_type": "markdown",
      "metadata": {
        "id": "PshmIN_2vvWU"
      },
      "source": [
        "Sparse matrices can be sliced like numpy arrays. The CSR format is more efficient for row slicing (although column slicing is possible), while the CSC format is more efficient for column slicing."
      ]
    },
    {
      "cell_type": "code",
      "metadata": {
        "id": "XhHvIs1zvvWU"
      },
      "source": [
        "A = sparse.csr_matrix(A_dense)"
      ],
      "execution_count": null,
      "outputs": []
    },
    {
      "cell_type": "code",
      "metadata": {
        "id": "IwppxIKJvvWU"
      },
      "source": [
        "A[:2]"
      ],
      "execution_count": null,
      "outputs": []
    },
    {
      "cell_type": "code",
      "metadata": {
        "id": "p41QykqRvvWU"
      },
      "source": [
        "A[1:4,2:]"
      ],
      "execution_count": null,
      "outputs": []
    },
    {
      "cell_type": "code",
      "metadata": {
        "id": "vimx6WMyvvWU"
      },
      "source": [
        "A[np.array([0,2,4])]"
      ],
      "execution_count": null,
      "outputs": []
    },
    {
      "cell_type": "markdown",
      "metadata": {
        "id": "bu35fCvZvvWU"
      },
      "source": [
        "## To do \n",
        "\n",
        "Consider the following matrix:"
      ]
    },
    {
      "cell_type": "code",
      "metadata": {
        "id": "xNuY5rDHvvWU"
      },
      "source": [
        "A = sparse.csr_matrix(np.random.randint(2, size = (20,30)))"
      ],
      "execution_count": null,
      "outputs": []
    },
    {
      "cell_type": "markdown",
      "metadata": {
        "id": "Nf5ht0t3vvWV"
      },
      "source": [
        "Extract the 10 rows of largest sums and build the corresponding matrix."
      ]
    },
    {
      "cell_type": "markdown",
      "metadata": {
        "id": "Sz4Ds0eIvvWV"
      },
      "source": [
        "## Bonus"
      ]
    },
    {
      "cell_type": "markdown",
      "metadata": {
        "id": "q33DjpunvvWV"
      },
      "source": [
        "Complete all methods of the following CSR class."
      ]
    },
    {
      "cell_type": "code",
      "metadata": {
        "id": "zBLFvOPVvvWV"
      },
      "source": [
        "class SparseCSR():\n",
        "    def __init__(self, data: np.ndarray, indices: np.ndarray, indptr: np.ndarray, shape: tuple):\n",
        "        self.data = data\n",
        "        self.indices = indices\n",
        "        self.indptr = indptr\n",
        "        self.shape = shape\n",
        "        \n",
        "    def dot(self, x: np.ndarray) -> np.ndarray:\n",
        "        '''Sparse-vector dot product.'''\n",
        "        # to be modified\n",
        "        return None\n",
        "\n",
        "    def dot_array(self, X: np.ndarray) -> np.ndarray:\n",
        "        '''Sparse-array dot product.'''\n",
        "        # to be modified\n",
        "        return None\n",
        "    \n",
        "    def dot_sparse(self, X: SparseCSR) -> SparseCSR:\n",
        "        '''Sparse-sparse dot product.'''\n",
        "        # to be modified\n",
        "        return None\n",
        "    \n",
        "    def add_sparse(self, X: SparseCSR) -> SparseCSR:\n",
        "        '''Add a sparse matrix.'''\n",
        "        # to be modified\n",
        "        return None\n",
        "    \n",
        "    def slice_row(self, index: np.ndarray) -> SparseCSR:\n",
        "        '''Slice rows of a sparse matrix.'''\n",
        "        # to be modified\n",
        "        return None\n",
        "    \n",
        "    def slice_col(self, index: np.ndarray) -> SparseCSR:\n",
        "        '''Slice columns of a sparse matrix.'''\n",
        "        # to be modified\n",
        "        return None\n",
        "    \n",
        "    def eliminate_zeros(self) -> SparseCSR:\n",
        "        '''Eliminate zeros of a sparse matrix.'''\n",
        "        # to be modified\n",
        "        return None"
      ],
      "execution_count": null,
      "outputs": []
    }
  ]
}